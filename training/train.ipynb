{
 "cells": [
  {
   "cell_type": "code",
   "execution_count": null,
   "id": "d66fb544",
   "metadata": {
    "vscode": {
     "languageId": "plaintext"
    }
   },
   "outputs": [],
   "source": [
    "lang_id_token = 26290\n",
    "lang_id_label_token = 102\n",
    "classify_token = 42303\n",
    "sentiment_token = 13896\n",
    "topic_token = 49704\n",
    "ner_token = 30827\n",
    "qa_token = 23846\n",
    "answer_token = 47682\n",
    "tag_token = 7203\n",
    "diacritize_token = 19588\n",
    "correct_token = 48220\n",
    "clean_token = 31666\n",
    "summarize_token = 114\n",
    "summary_token = 16150\n",
    "title_token = 27246\n",
    "headline_token = 49296\n",
    "end_of_token = 14004\n",
    "translate_token = 34635\n",
    "# classify_token = 5\n",
    "ner_token = 30827\n",
    "eng = 1516\n",
    "yor = 40754\n",
    "ibo = 26762\n",
    "hau = 13679\n",
    "pcm = 28112\n",
    "prompt = 37160\n",
    "response = 2474\n",
    "MASK = -100"
   ]
  }
 ],
 "metadata": {
  "language_info": {
   "name": "python"
  }
 },
 "nbformat": 4,
 "nbformat_minor": 5
}
